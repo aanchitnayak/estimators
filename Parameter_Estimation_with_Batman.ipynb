{
  "nbformat": 4,
  "nbformat_minor": 0,
  "metadata": {
    "kernelspec": {
      "display_name": "Python 3",
      "language": "python",
      "name": "python3"
    },
    "language_info": {
      "codemirror_mode": {
        "name": "ipython",
        "version": 3
      },
      "file_extension": ".py",
      "mimetype": "text/x-python",
      "name": "python",
      "nbconvert_exporter": "python",
      "pygments_lexer": "ipython3",
      "version": "3.7.4"
    },
    "colab": {
      "name": "Parameter Estimation with Batman.ipynb",
      "provenance": [],
      "include_colab_link": true
    }
  },
  "cells": [
    {
      "cell_type": "markdown",
      "metadata": {
        "id": "view-in-github",
        "colab_type": "text"
      },
      "source": [
        "<a href=\"https://colab.research.google.com/github/aanchitnayak/estimators/blob/master/Parameter_Estimation_with_Batman.ipynb\" target=\"_parent\"><img src=\"https://colab.research.google.com/assets/colab-badge.svg\" alt=\"Open In Colab\"/></a>"
      ]
    },
    {
      "cell_type": "markdown",
      "metadata": {
        "id": "S-FZcAjfHdLB",
        "colab_type": "text"
      },
      "source": [
        "# Parameter Estimation with Batman\n",
        "\n",
        "This notebook will help learners understand two simple parameter estimation methods:\n",
        "1. Maximum Likelihood Estimate\n",
        "2. Maximum Aposteriori Estimate \n",
        "\n",
        "The mathematics related to both these techniques is mentioned in vivid detail on my blog. Feel free to visit and comment. "
      ]
    },
    {
      "cell_type": "markdown",
      "metadata": {
        "id": "2f9BszIUHdLD",
        "colab_type": "text"
      },
      "source": [
        "## Importing and Readying the Data for Dent's Tosses"
      ]
    },
    {
      "cell_type": "code",
      "metadata": {
        "id": "4fhr5hFeHdLF",
        "colab_type": "code",
        "colab": {}
      },
      "source": [
        "import pandas as pd\n",
        "\n",
        "data = pd.read_csv('cointoss_final.csv')\n",
        "x = data['Result']"
      ],
      "execution_count": 0,
      "outputs": []
    },
    {
      "cell_type": "markdown",
      "metadata": {
        "id": "sFEIgcclHdLP",
        "colab_type": "text"
      },
      "source": [
        "## Maximum Likelihood Estimate for Dent's Coin\n",
        "\n",
        "For this, we shall use a simple derivative optimisation on the likelihood function and then find the probability of scarred heads for Harvey Dent's Coin. \n",
        "\n",
        "The optimisation formulation is, in summary, given by:\n",
        "\n",
        "$$ \\max_{\\theta} l(\\theta|C=c_i) = \\sum_{i=1}^{N}c_i \\log\\theta+ \\sum_{i=1}^{N}(1-c_i) \\log(1-\\theta)$$\n",
        "\n",
        "Which results in\n",
        "\n",
        "$$ \\theta^{*} = \\frac{n_1}{n_0 + n_1}$$\n",
        "\n",
        "Where \n",
        "\n",
        "$$n_1 = \\sum_{i=1}^{N}c_i$$\n",
        "and,\n",
        "$$n_2 = \\sum_{i=1}^{N}1-c_i$$\n",
        "\n",
        "Notice that $\\theta^{*}$ represents the probability of the appearance of a scarred heads when two-face flips his coin. "
      ]
    },
    {
      "cell_type": "code",
      "metadata": {
        "id": "rzMdTMxtHdLQ",
        "colab_type": "code",
        "colab": {},
        "outputId": "05e5aae8-3a44-4cf2-90c7-3a7f3e758c45"
      },
      "source": [
        "#Performing the MLE for the above data\n",
        "\n",
        "n0 = 0\n",
        "n1 = 0\n",
        "\n",
        "for i in x:\n",
        "    if i == 1:\n",
        "        n1 = n1+1\n",
        "    else:\n",
        "        n0 = n0+1\n",
        "\n",
        "th_h = n1 / (n0 + n1)\n",
        "\n",
        "print('The Probability of a Scarred heads is given by {num}'.format(num = th_h))"
      ],
      "execution_count": 0,
      "outputs": [
        {
          "output_type": "stream",
          "text": [
            "The Probability of a Scarred heads is given by 0.5333333333333333\n"
          ],
          "name": "stdout"
        }
      ]
    },
    {
      "cell_type": "markdown",
      "metadata": {
        "id": "zgFNYEDUHdLb",
        "colab_type": "text"
      },
      "source": [
        "Notice how the probability is not exactly 0.5 but slightly more than it. This might be an indication that this coin is not very fair. It is skewed towards giving scarred heads against heads. The margin isn't very high, however. \n",
        "\n",
        "Since the dataset is small, we will use the next estimation technique to give a regulariser to the prior probability to $\\Pr(\\theta)$. This will give our answer a better polish. "
      ]
    },
    {
      "cell_type": "markdown",
      "metadata": {
        "id": "NPkHeErVHdLe",
        "colab_type": "text"
      },
      "source": [
        "## Maximum Aposteriori Estimate\n",
        "\n",
        "Now, instead of simply maximising the likelihood, we will do the same but with a regulariser. This comes in the form of a probability density given to the prior $\\Pr(\\theta)$. We will do this using a Beta function with shape parameters given by $\\alpha = 4$ and $\\beta = 1$. On doing this, we get the optimal $\\theta^{*}$ as:\n",
        "\n",
        "$$\\theta^{*} = \\frac{n_1 + \\beta - 1}{n_0 + n_1 + \\alpha + \\beta -2 }$$\n",
        "\n",
        "Also, the bayesian formulation for this prior estimate turns out to be\n",
        "\n",
        "$$\\Pr(\\theta|\\alpha, \\beta, n_0, n_1) = Beta(\\theta|\\alpha+n_1,\\beta+n_0) $$\n",
        "\n",
        "The probability for the coin to show a scarred heads follows a beta distribution given as above. This gives us a finer result."
      ]
    },
    {
      "cell_type": "code",
      "metadata": {
        "id": "tAR-WsGDHdLg",
        "colab_type": "code",
        "colab": {},
        "outputId": "0cc5a591-c384-4fbf-951a-c9c0b0618b44"
      },
      "source": [
        "#MAP Estimator - Prob of Scarred Heads ->\n",
        "b = 4\n",
        "a = 1\n",
        "th_H_MAP = (n1 + b -1)/(n0+n1+a+b-2)\n",
        "\n",
        "from scipy.stats import beta\n",
        "import matplotlib.pyplot as plt \n",
        "import numpy as np \n",
        "import seaborn as sns\n",
        "sns.set()\n",
        "  \n",
        "x = np.linspace(0, 1.0, 100) \n",
        "  \n",
        "# Varying positional arguments \n",
        "y1 = beta.pdf(x, b+n1, a+n0) \n",
        "plt.plot(x, y1) \n",
        "plt.title('Probability Density of Scarred Heads')\n",
        "mean, var, skew, kurt = beta.stats(b+n1, a+n0, moments='mvsk')\n",
        "\n",
        "print('The Probability of a Scarred heads is given by {num}'.format(num = th_H_MAP))\n",
        "print('The mean of the beta distribution is {num}'.format(num = mean))"
      ],
      "execution_count": 0,
      "outputs": [
        {
          "output_type": "stream",
          "text": [
            "The Probability of a Scarred heads is given by 0.6111111111111112\n",
            "The mean of the beta distribution is 0.6\n"
          ],
          "name": "stdout"
        },
        {
          "output_type": "display_data",
          "data": {
            "image/png": "[encoded data removed]",
            "text/plain": [
              "<Figure size 432x288 with 1 Axes>"
            ]
          },
          "metadata": {
            "tags": []
          }
        }
      ]
    },
    {
      "cell_type": "markdown",
      "metadata": {
        "id": "7kgMn3tBHdLn",
        "colab_type": "text"
      },
      "source": [
        "Notice how the new probability or $\\Pr(\\theta)$ is updated and how it is near to 0.61. This is a huge increment when compared to the MLE Estimator. Now we will do an interesting exercise. We will do the MLE and MAP Estimates simulatneously for a large dataset of about 10,000 tosses. We will then see which estimator was better."
      ]
    },
    {
      "cell_type": "markdown",
      "metadata": {
        "id": "qBqTz7jNHdLo",
        "colab_type": "text"
      },
      "source": [
        "## Verifying Results with a Limit\n",
        "\n",
        "We shall now use the limiting condition given below and verify its truth. \n",
        "\n",
        "$$\\lim_{n_1 + n_0 \\rightarrow \\infty} \\theta_{MLE}^{*} \\rightarrow \\theta_{MAP}^{*}$$\n",
        "\n",
        "This limit means that as more and more data is gathered, both estimates start to perform identically well. And we get the estimate more closer to the truth. Based on this, we can say which of the previously shown estimators was better with the given constants. "
      ]
    },
    {
      "cell_type": "markdown",
      "metadata": {
        "id": "R0lnjmj0HdLp",
        "colab_type": "text"
      },
      "source": [
        "### Importing and Readying the New Dataset "
      ]
    },
    {
      "cell_type": "code",
      "metadata": {
        "id": "rn_cEssSHdLr",
        "colab_type": "code",
        "colab": {}
      },
      "source": [
        "data_new = pd.read_csv('cointoss_final_more_data.csv')\n",
        "x_new = data_new['Result']"
      ],
      "execution_count": 0,
      "outputs": []
    },
    {
      "cell_type": "markdown",
      "metadata": {
        "id": "c_IKgunaHdLy",
        "colab_type": "text"
      },
      "source": [
        "### Re-doing both Estimates Simultaneously "
      ]
    },
    {
      "cell_type": "code",
      "metadata": {
        "id": "5R-GHhI0HdLz",
        "colab_type": "code",
        "colab": {},
        "outputId": "cbffefe8-663e-4426-9ebd-7e471503867f"
      },
      "source": [
        "#Performing the MLE for the above data\n",
        "\n",
        "n0 = 0\n",
        "n1 = 0\n",
        "\n",
        "for i in x_new:\n",
        "    if i == 1:\n",
        "        n1 = n1+1\n",
        "    else:\n",
        "        n0 = n0+1\n",
        "\n",
        "th_h = n0 / (n0 + n1)\n",
        "\n",
        "print('The Probability of a Scarred heads given by MLE is {num}'.format(num = th_h))\n",
        "\n",
        "#Performing MAP\n",
        "b = 4\n",
        "a = 1\n",
        "th_H_MAP = (n0 + a -1)/(n0+n1+a+b-2)\n",
        "\n",
        "from scipy.stats import beta\n",
        "import matplotlib.pyplot as plt \n",
        "import numpy as np \n",
        "import seaborn as sns\n",
        "sns.set()\n",
        "  \n",
        "x = np.linspace(0, 1.0, 100) \n",
        "  \n",
        "# Varying positional arguments \n",
        "y1 = beta.pdf(x,a+n0, b+n1) \n",
        "plt.plot(x, y1) \n",
        "plt.title('Probability Density of Scarred Heads')\n",
        "mean, var, skew, kurt = beta.stats(a+n0, b+n1, moments='mvsk')\n",
        "\n",
        "print('The Probability of a Scarred heads is given by {num}'.format(num = th_H_MAP))\n",
        "print('The mean of the beta distribution is {num}'.format(num = mean))"
      ],
      "execution_count": 0,
      "outputs": [
        {
          "output_type": "stream",
          "text": [
            "The Probability of a Scarred heads given by MLE is 0.6086\n",
            "The Probability of a Scarred heads is given by 0.6084174747575727\n",
            "The mean of the beta distribution is 0.6083958020989505\n"
          ],
          "name": "stdout"
        },
        {
          "output_type": "display_data",
          "data": {
            "image/png": "[encoded data removed]",
            "text/plain": [
              "<Figure size 432x288 with 1 Axes>"
            ]
          },
          "metadata": {
            "tags": []
          }
        }
      ]
    },
    {
      "cell_type": "markdown",
      "metadata": {
        "id": "HWxi-D-tHdL7",
        "colab_type": "text"
      },
      "source": [
        "# Conclusion"
      ]
    },
    {
      "cell_type": "markdown",
      "metadata": {
        "id": "tpNbLJiuHdL9",
        "colab_type": "text"
      },
      "source": [
        "We saw how both estimators perform when the data is less. When we had only 15 data points, the MLE estimator was far off from the truth but with 10,000 data points, it was perfectly close to the truth. However, MAP with a well-informed prior (i.e., the Beta function whose shape parameters $\\alpha$ and $\\beta$ were well known) gave a very strong estimate with very little error. \n",
        "\n",
        "This brings us to the following conclusion - \n",
        "\n",
        "_When working with lesser data, MLE estimates may tend to be incorrect. As the data increases, the estimate keeps getting better and better. However, the MAP Estimates are very strong even with less data, but require a *very well informed* prior distribution_. "
      ]
    }
  ]
}